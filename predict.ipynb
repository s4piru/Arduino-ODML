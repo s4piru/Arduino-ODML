{
 "cells": [
  {
   "cell_type": "code",
   "execution_count": 5,
   "metadata": {},
   "outputs": [],
   "source": [
    "import os\n",
    "import random\n",
    "import shutil\n",
    "from PIL import Image\n",
    "import torch\n",
    "import torch.nn as nn\n",
    "from torchvision import transforms, datasets\n",
    "from torch.utils.data import DataLoader\n",
    "import matplotlib.pyplot as plt\n",
    "import matplotlib.patches as patches\n",
    "import numpy as np\n",
    "from constants import DATA_DIR, MODEL_PATH, IMG_SIZE, MEAN, STD\n",
    "from train import SimpleCNN"
   ]
  },
  {
   "cell_type": "code",
   "execution_count": 6,
   "metadata": {},
   "outputs": [
    {
     "name": "stderr",
     "output_type": "stream",
     "text": [
      "/var/folders/6y/5lm4_4ld2x783v2_w4llgl080000gn/T/ipykernel_62481/3924074928.py:7: FutureWarning: You are using `torch.load` with `weights_only=False` (the current default value), which uses the default pickle module implicitly. It is possible to construct malicious pickle data which will execute arbitrary code during unpickling (See https://github.com/pytorch/pytorch/blob/main/SECURITY.md#untrusted-models for more details). In a future release, the default value for `weights_only` will be flipped to `True`. This limits the functions that could be executed during unpickling. Arbitrary objects will no longer be allowed to be loaded via this mode unless they are explicitly allowlisted by the user via `torch.serialization.add_safe_globals`. We recommend you start setting `weights_only=True` for any use case where you don't have full control of the loaded file. Please open an issue on GitHub for any issues related to this experimental feature.\n",
      "  model.load_state_dict(torch.load(MODEL_PATH, map_location=device))\n"
     ]
    },
    {
     "data": {
      "text/plain": [
       "SimpleCNN(\n",
       "  (conv1): Conv2d(3, 16, kernel_size=(3, 3), stride=(1, 1), padding=(1, 1))\n",
       "  (pool): MaxPool2d(kernel_size=2, stride=2, padding=0, dilation=1, ceil_mode=False)\n",
       "  (conv2): Conv2d(16, 32, kernel_size=(3, 3), stride=(1, 1), padding=(1, 1))\n",
       "  (conv3): Conv2d(32, 64, kernel_size=(3, 3), stride=(1, 1), padding=(1, 1))\n",
       "  (fc1): Linear(in_features=50176, out_features=128, bias=True)\n",
       "  (fc2): Linear(in_features=128, out_features=2, bias=True)\n",
       ")"
      ]
     },
     "execution_count": 6,
     "metadata": {},
     "output_type": "execute_result"
    }
   ],
   "source": [
    "if torch.backends.mps.is_available():\n",
    "        device = torch.device(\"mps\")\n",
    "else:\n",
    "    device = torch.device(\"cpu\")\n",
    "\n",
    "model = SimpleCNN(num_classes=2)\n",
    "model.load_state_dict(torch.load(MODEL_PATH, map_location=device))\n",
    "model.to(device)\n",
    "model.eval()"
   ]
  },
  {
   "cell_type": "code",
   "execution_count": 7,
   "metadata": {},
   "outputs": [
    {
     "name": "stdout",
     "output_type": "stream",
     "text": [
      "Selected 20 images for testing\n"
     ]
    }
   ],
   "source": [
    "transform_for_test = transforms.Compose([\n",
    "    transforms.Resize((224, 224)),\n",
    "    transforms.ToTensor(),\n",
    "    transforms.Normalize(mean=MEAN, std=STD),\n",
    "])\n",
    "test_dir = os.path.join(DATA_DIR, 'test')\n",
    "test_dataset = datasets.ImageFolder(test_dir, transform=transform_for_test)\n",
    "class_names = test_dataset.classes\n",
    "class_to_idx = test_dataset.class_to_idx\n",
    "\n",
    "num_images_per_class = 10\n",
    "selected_images = []\n",
    "\n",
    "random.seed(42)\n",
    "\n",
    "for class_name in class_names:\n",
    "    class_idx = class_to_idx[class_name]\n",
    "    indices = [i for i, (_, label) in enumerate(test_dataset) if label == class_idx]\n",
    "    selected = random.sample(indices, min(num_images_per_class, len(indices)))\n",
    "    selected_images.extend(selected)\n",
    "\n",
    "print(f\"Selected {len(selected_images)} images for testing\")"
   ]
  },
  {
   "cell_type": "code",
   "execution_count": 8,
   "metadata": {},
   "outputs": [
    {
     "ename": "NameError",
     "evalue": "name 'val_transform' is not defined",
     "output_type": "error",
     "traceback": [
      "\u001b[0;31m---------------------------------------------------------------------------\u001b[0m",
      "\u001b[0;31mNameError\u001b[0m                                 Traceback (most recent call last)",
      "Cell \u001b[0;32mIn[8], line 14\u001b[0m\n\u001b[1;32m     11\u001b[0m class_name \u001b[38;5;241m=\u001b[39m class_names[true_label]\n\u001b[1;32m     13\u001b[0m image \u001b[38;5;241m=\u001b[39m Image\u001b[38;5;241m.\u001b[39mopen(image_path)\u001b[38;5;241m.\u001b[39mconvert(\u001b[38;5;124m'\u001b[39m\u001b[38;5;124mRGB\u001b[39m\u001b[38;5;124m'\u001b[39m)\n\u001b[0;32m---> 14\u001b[0m input_tensor \u001b[38;5;241m=\u001b[39m \u001b[43mval_transform\u001b[49m(image)\u001b[38;5;241m.\u001b[39munsqueeze(\u001b[38;5;241m0\u001b[39m)\u001b[38;5;241m.\u001b[39mto(device)\n\u001b[1;32m     16\u001b[0m \u001b[38;5;28;01mwith\u001b[39;00m torch\u001b[38;5;241m.\u001b[39mno_grad():\n\u001b[1;32m     17\u001b[0m     output \u001b[38;5;241m=\u001b[39m model(input_tensor)\n",
      "\u001b[0;31mNameError\u001b[0m: name 'val_transform' is not defined"
     ]
    },
    {
     "data": {
      "text/plain": [
       "<Figure size 2000x1600 with 0 Axes>"
      ]
     },
     "metadata": {},
     "output_type": "display_data"
    }
   ],
   "source": [
    "softmax = nn.Softmax(dim=1)\n",
    "\n",
    "num_cols = 5\n",
    "num_rows = int(np.ceil(len(selected_images) / num_cols))\n",
    "\n",
    "plt.figure(figsize=(20, num_rows * 4))\n",
    "\n",
    "for i, idx in enumerate(selected_images):\n",
    "    image_path, true_label = test_dataset.imgs[idx]\n",
    "    image_name = os.path.basename(image_path)\n",
    "    class_name = class_names[true_label]\n",
    "    \n",
    "    image = Image.open(image_path).convert('RGB')\n",
    "    input_tensor = transform_for_test(image).unsqueeze(0).to(device)\n",
    "    \n",
    "    with torch.no_grad():\n",
    "        output = model(input_tensor)\n",
    "        probabilities = softmax(output)\n",
    "        confidence, predicted_idx = torch.max(probabilities, 1)\n",
    "        predicted_label = predicted_idx.item()\n",
    "        predicted_class = class_names[predicted_label]\n",
    "        confidence_percent = confidence.item() * 100\n",
    "        is_correct = predicted_label == true_label\n",
    "    \n",
    "    plt.subplot(num_rows, num_cols, i+1)\n",
    "    plt.imshow(image)\n",
    "    plt.axis('off')\n",
    "    color = 'green' if is_correct else 'red'\n",
    "    plt.title(f\"{image_name}\\n{'OK' if is_correct else 'NG'}\\nexpected: {class_name}\\npredicted: {predicted_class} confidence: {confidence_percent:.2f}%\", \n",
    "              color=color, fontsize=8)\n",
    "    \n",
    "plt.tight_layout()\n",
    "plt.show()"
   ]
  }
 ],
 "metadata": {
  "kernelspec": {
   "display_name": "venv",
   "language": "python",
   "name": "python3"
  },
  "language_info": {
   "codemirror_mode": {
    "name": "ipython",
    "version": 3
   },
   "file_extension": ".py",
   "mimetype": "text/x-python",
   "name": "python",
   "nbconvert_exporter": "python",
   "pygments_lexer": "ipython3",
   "version": "3.10.8"
  }
 },
 "nbformat": 4,
 "nbformat_minor": 2
}
